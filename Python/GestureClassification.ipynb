{
 "cells": [
  {
   "cell_type": "code",
   "execution_count": null,
   "metadata": {},
   "outputs": [],
   "source": [
    "from everywhereml.data import Dataset\n",
    "from everywhereml.data.collect import SerialCollector\n",
    "from everywhereml.preprocessing import Pipeline, MinMaxScaler, Window, SpectralFeatures\n",
    "from everywhereml.sklearn.ensemble import RandomForestClassifier\n",
    "from pprint import pprint\n",
    "from sklearn.metrics import confusion_matrix\n",
    "import matplotlib.pyplot as plt\n",
    "import numpy as np\n",
    "import pandas as pd"
   ]
  },
  {
   "cell_type": "markdown",
   "metadata": {},
   "source": [
    "Add the port your Arduino is connected to"
   ]
  },
  {
   "cell_type": "markdown",
   "metadata": {},
   "source": [
    "Collect Training Data"
   ]
  },
  {
   "cell_type": "code",
   "execution_count": null,
   "metadata": {},
   "outputs": [],
   "source": [
    "# port = '/dev/cu.usbmodem141401'\n",
    "port = 'COM7'\n",
    "\n",
    "try:\n",
    "    imu_dataset = Dataset.from_csv(\n",
    "        'imu.csv', \n",
    "        name='ContinuousMotion', \n",
    "        target_name_column='target_name'\n",
    "    )\n",
    "    \n",
    "except FileNotFoundError:\n",
    "    imu_collector = SerialCollector(\n",
    "        # port='/dev/cu.usbmodem141401', \n",
    "        port=port, \n",
    "        baud=115200, \n",
    "        start_of_frame='IMU:', \n",
    "        feature_names=['ax', 'ay', 'az', 'gx', 'gy', 'gz']\n",
    "    )\n",
    "    imu_dataset = imu_collector.collect_many_classes(\n",
    "        dataset_name='ContinuousMotion', \n",
    "        duration=30\n",
    "    )\n",
    "    \n",
    "    # save dataset to file for later use\n",
    "    imu_dataset.df.to_csv('imu.csv', index=False)\n",
    "\n",
    "print(imu_dataset.df.columns)\n",
    "print(imu_dataset.df['target_name'].value_counts())"
   ]
  },
  {
   "cell_type": "markdown",
   "metadata": {},
   "source": [
    "## Classes to Use"
   ]
  },
  {
   "cell_type": "code",
   "execution_count": null,
   "metadata": {},
   "outputs": [],
   "source": [
    "# This dictionary is used to enable/disable certain gestures\n",
    "# comment out unwanted gestures\n",
    "classes = [\n",
    "    'clockwise_wrist_turn',\n",
    "    'counterclockwise_wrist_turn',\n",
    "    'palm_down_neutral',\n",
    "    'palm_down_left_swipe',\n",
    "    'palm_down_up',\n",
    "    'palm_down_down',\n",
    "    'palm_left_neutral',\n",
    "    'palm_left_classic_slap',\n",
    "    'palm_left_backhand_slap',\n",
    "    'palm_left_up_chop',\n",
    "    'palm_left_down_chop',\n",
    "    'palm_down_right_swipe'\n",
    "]\n",
    "\n",
    "# Filter out gestures that are not enabled\n",
    "imu_dataset.df = imu_dataset.df[imu_dataset.df['target_name'].isin(classes)]\n",
    "\n",
    "imu_dataset.df['target_name'].value_counts()"
   ]
  },
  {
   "cell_type": "code",
   "execution_count": null,
   "metadata": {},
   "outputs": [],
   "source": [
    "# this is the frequency of your sensor\n",
    "# change according to your hardware\n",
    "sampling_frequency = 104\n",
    "mean_gesture_duration_in_millis = 1000\n",
    "window_length = sampling_frequency * mean_gesture_duration_in_millis // 1000\n",
    "\n",
    "imu_pipeline = Pipeline(name='ContinousMotionPipeline', steps=[\n",
    "    MinMaxScaler(),\n",
    "    # shift can be an integer (number of samples) or a float (percent)\n",
    "    Window(length=window_length, shift=0.3),\n",
    "    # order can either be 1 (first-order features) or 2 (add second-order features)\n",
    "    SpectralFeatures(order=2)\n",
    "])\n",
    "\n",
    "pprint(imu_pipeline['SpectralFeatures'][0].feature_names)\n",
    "\n",
    "\"\"\"\n",
    "Apply feature pre-processing\n",
    "\"\"\"\n",
    "imu_dataset.apply(imu_pipeline)\n",
    "imu_dataset.describe()"
   ]
  },
  {
   "cell_type": "code",
   "execution_count": null,
   "metadata": {},
   "outputs": [],
   "source": [
    "\"\"\"\n",
    "Plot features pairplot after feature extraction\n",
    "Now it will start to make sense\n",
    "Since SpectralFeatures generates 8 or 20 features (depending on the order)\n",
    "for each axis, we limit the visualization to a more reasonable number\n",
    "\"\"\"\n",
    "imu_dataset.plot.features_pairplot(n=300, k=6)"
   ]
  },
  {
   "cell_type": "code",
   "execution_count": null,
   "metadata": {},
   "outputs": [],
   "source": [
    "\"\"\"\n",
    "Perform classification with a RandomForest\n",
    "\"\"\"\n",
    "imu_classifier = RandomForestClassifier(n_estimators=20, max_depth=20)\n",
    "imu_train, imu_test = imu_dataset.split(test_size=0.3)\n",
    "imu_classifier.fit(imu_train)\n",
    "\n",
    "print('Score on test set: %.2f' % imu_classifier.score(imu_test))\n",
    "\n",
    "\n",
    "# Plot confusion matrix\n",
    "# If any off-diagonal values are dark, it means the gestures are too similar\n",
    "# and the classifier is confusing them\n",
    "df = imu_test.df\n",
    "y_true = imu_test.df['target'].astype(int)\n",
    "y_pred = imu_classifier.predict(imu_test.df.drop(columns=['target_name', 'target']))\n",
    "\n",
    "mat = confusion_matrix(y_true, y_pred)\n",
    "target_map = {i: name for i, name in enumerate(imu_test.target_names)}\n",
    "plt.xticks(list(target_map.keys()), list(target_map.values()), rotation=90)\n",
    "plt.yticks(list(target_map.keys()), list(target_map.values()))\n",
    "plt.xlabel('Predicted')\n",
    "plt.ylabel('True')\n",
    "plt.imshow(mat, cmap='Blues', interpolation='nearest')\n",
    "plt.show()\n",
    "# round printed values to 2 decimal places\n",
    "np.set_printoptions(precision=2)\n",
    "print(mat / mat.max())"
   ]
  },
  {
   "cell_type": "code",
   "execution_count": null,
   "metadata": {},
   "outputs": [],
   "source": [
    "\"\"\"\n",
    "Port pipeline to C++\n",
    "\"\"\"\n",
    "print(imu_pipeline.to_arduino_file(\n",
    "    '../Arduino/IMUClassify/Pipeline.h', \n",
    "    instance_name='pipeline'\n",
    "))\n",
    "\n",
    "# Pipeline.h file has a typo. Correct this\n",
    "replacement_lines = [\n",
    "    \"\\t\\t\\t\\t\\tstep0.transform(X)\\n\",\n",
    "    \"\\t\\t\\t\\t\\t\\n\",\n",
    "    \"\\t\\t\\t\\t\\t&& step1.transform(X)\\n\",\n",
    "    \"\\t\\t\\t\\t\\t\\n\",\n",
    "    \"\\t\\t\\t\\t\\t&& step2.transform(X)\\n\",\n",
    "]\n",
    "\n",
    "pipeline_file = '../Arduino/IMUClassify/Pipeline.h'\n",
    "\n",
    "with open(pipeline_file, 'r') as f:\n",
    "    file_data = f.readlines()\n",
    "\n",
    "    with open(pipeline_file, 'w') as f:\n",
    "        for i, line in enumerate(file_data):\n",
    "            if i >= 262 and i < 267:\n",
    "                line = replacement_lines[i-262]\n",
    "            f.write(line)    \n",
    "\n",
    "\n",
    "\"\"\"\n",
    "Port classifier to C++\n",
    "\"\"\"\n",
    "print(imu_classifier.to_arduino_file(\n",
    "    '../Arduino/IMUClassify/Classifier.h', \n",
    "    instance_name='forest', \n",
    "    class_map=imu_dataset.class_map\n",
    "))"
   ]
  },
  {
   "cell_type": "code",
   "execution_count": null,
   "metadata": {},
   "outputs": [],
   "source": [
    "df = pd.read_csv('imu_old.csv')\n",
    "df['target'].unique()"
   ]
  }
 ],
 "metadata": {
  "kernelspec": {
   "display_name": "py311",
   "language": "python",
   "name": "python3"
  },
  "language_info": {
   "codemirror_mode": {
    "name": "ipython",
    "version": 3
   },
   "file_extension": ".py",
   "mimetype": "text/x-python",
   "name": "python",
   "nbconvert_exporter": "python",
   "pygments_lexer": "ipython3",
   "version": "3.11.6"
  }
 },
 "nbformat": 4,
 "nbformat_minor": 2
}
